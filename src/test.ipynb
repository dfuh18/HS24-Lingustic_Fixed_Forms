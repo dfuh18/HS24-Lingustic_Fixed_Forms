{
 "cells": [
  {
   "cell_type": "markdown",
   "metadata": {},
   "source": [
    "# Setup for Test the knowledge of LLMs of common idioms (list form https://englishlovers.in/what-is-idiom-examples-definition-list-of-1000-idiom/)"
   ]
  },
  {
   "cell_type": "code",
   "execution_count": 15,
   "metadata": {},
   "outputs": [
    {
     "name": "stderr",
     "output_type": "stream",
     "text": [
      "\n"
     ]
    },
    {
     "name": "stdout",
     "output_type": "stream",
     "text": [
      "Collecting matplotlib\n"
     ]
    },
    {
     "name": "stderr",
     "output_type": "stream",
     "text": [
      "[notice] A new release of pip is available: 24.0 -> 24.3.1\n"
     ]
    },
    {
     "name": "stdout",
     "output_type": "stream",
     "text": [
      "  Downloading matplotlib-3.10.0-cp312-cp312-win_amd64.whl.metadata (11 kB)\n"
     ]
    },
    {
     "name": "stderr",
     "output_type": "stream",
     "text": [
      "[notice] To update, run: python.exe -m pip install --upgrade pip"
     ]
    },
    {
     "name": "stdout",
     "output_type": "stream",
     "text": [
      "Collecting contourpy>=1.0.1 (from matplotlib)"
     ]
    },
    {
     "name": "stderr",
     "output_type": "stream",
     "text": [
      "\n"
     ]
    },
    {
     "name": "stdout",
     "output_type": "stream",
     "text": [
      "\n",
      "  Downloading contourpy-1.3.1-cp312-cp312-win_amd64.whl.metadata (5.4 kB)\n",
      "Collecting cycler>=0.10 (from matplotlib)\n",
      "  Using cached cycler-0.12.1-py3-none-any.whl.metadata (3.8 kB)Note: you may need to restart the kernel to use updated packages.\n",
      "\n",
      "Collecting fonttools>=4.22.0 (from matplotlib)\n",
      "  Downloading fonttools-4.55.3-cp312-cp312-win_amd64.whl.metadata (168 kB)\n",
      "     ---------------------------------------- 0.0/168.5 kB ? eta -:--:--\n"
     ]
    }
   ],
   "source": [
    "# %pip install -U \"ell-ai[all]\"\n",
    "# %pip install pandas\n",
    "# %pip install python-dotenv\n",
    "# %pip install ollama\n",
    "#%pip install -U scikit-learn\n",
    "%pip install matplotlib"
   ]
  },
  {
   "cell_type": "code",
   "execution_count": 17,
   "metadata": {},
   "outputs": [
    {
     "data": {
      "text/plain": [
       "False"
      ]
     },
     "execution_count": 17,
     "metadata": {},
     "output_type": "execute_result"
    }
   ],
   "source": [
    "#imports and setup\n",
    "import pandas as pd\n",
    "import ell\n",
    "from pydantic import BaseModel, Field\n",
    "import csv\n",
    "from dotenv import load_dotenv\n",
    "# import openai\n",
    "import ollama\n",
    "from sklearn.metrics.pairwise import cosine_similarity\n",
    "import matplotlib.pyplot as plt\n",
    "\n",
    "load_dotenv()"
   ]
  },
  {
   "cell_type": "code",
   "execution_count": 3,
   "metadata": {},
   "outputs": [
    {
     "name": "stdout",
     "output_type": "stream",
     "text": [
      "                             idiom                                            meaning\n",
      "0                       A Bit Much            More than is reasonable; a bit too much\n",
      "1             A Bite at The Cherry   A good opportunity that isn’t available to ev...\n",
      "2                       A Busy Bee   A busy, active person who moves quickly from ...\n",
      "3             A Cat Has Nine Lives        Cats seem to get away with dangerous things\n",
      "4  A Cat in Gloves Catches No Mice   You can’t get what you need if you’re too car...\n",
      "(1450, 2)\n"
     ]
    }
   ],
   "source": [
    "# read in the prepared csv file\n",
    "df = pd.read_csv('../data/idioms.csv', delimiter=':', skiprows=1, names=['idiom', 'meaning'])\t\n",
    "\n",
    "print(df.head())\n",
    "print(df.shape)"
   ]
  },
  {
   "cell_type": "code",
   "execution_count": 4,
   "metadata": {},
   "outputs": [],
   "source": [
    "# prepare function for idiom translation using ell with specified output format \n",
    "\n",
    "prompt = \"Translate the following idiom, or phrase, into the most concise and accurate translation possible only include a single answer:\"\n",
    "\n",
    "\n",
    "# model with OpenAI that type safety / structured outputs needs api key and funding\n",
    "\n",
    "# class IdiomTranslation(BaseModel):\n",
    "#     generatedTranslation: str = Field(description=\"The translation of the presented idiom as concise and accurate as possible\")\n",
    "\n",
    "# @ell.complex(model=\"gpt-4o-mini\", response_format=IdiomTranslation, temperature=0)\n",
    "# def translate_idiom(idiom: str) -> IdiomTranslation:\n",
    "#     return [ell.system(prompt), ell.user(idiom)]\n",
    "\n",
    "# run with local ollama\n",
    "# Use models automatically registered by asking ollama\n",
    "ell.models.ollama.register(base_url=\"http://localhost:11434/v1\")\n",
    "\n",
    "ell.init(store='./logdir', autocommit=True, autocommit_model=\"llama3.1:8b\", verbose=True)\n",
    "\n",
    "\n",
    "@ell.complex(model=\"llama3.1:8b\", temperature=0)  # adding response format leads to validation errors\n",
    "def translate_idiom(idiom: str):\n",
    "    return [ell.system(prompt), ell.user(idiom)]\n"
   ]
  },
  {
   "cell_type": "code",
   "execution_count": 5,
   "metadata": {},
   "outputs": [
    {
     "name": "stdout",
     "output_type": "stream",
     "text": [
      "Idiom: A Bit Much\n",
      "╔══════════════════════════════════════════════════════════════════════════════╗\n",
      "║ translate_idiom(A Bit Mu..)\n",
      "╠══════════════════════════════════════════════════════════════════════════════╣\n",
      "║ Prompt:\n",
      "╟──────────────────────────────────────────────────────────────────────────────╢\n",
      "│      system: Translate the following idiom, or phrase, into the most\n",
      "│              concise and accurate translation possible only include a\n",
      "│              single answer:\n",
      "│\n",
      "│        user: A Bit Much\n",
      "╟──────────────────────────────────────────────────────────────────────────────╢\n",
      "║ Output:\n",
      "╟──────────────────────────────────────────────────────────────────────────────╢\n",
      "│   assistant: Too much to handle.\n",
      "╚══════════════════════════════════════════════════════════════════════════════╝\n",
      "Translation: Too much to handle.\n",
      "Answer form the csv:  More than is reasonable; a bit too much\n"
     ]
    }
   ],
   "source": [
    "# test\n",
    "\n",
    "idiom = df['idiom'][0]\n",
    "print(f\"Idiom: {idiom}\")\n",
    "\n",
    "response = translate_idiom(idiom)\n",
    "print(f\"Translation: {response.content[0].text}\")\n",
    "\n",
    "print(f\"Answer form the csv: {df['meaning'][0]}\")"
   ]
  },
  {
   "cell_type": "code",
   "execution_count": 6,
   "metadata": {},
   "outputs": [
    {
     "name": "stdout",
     "output_type": "stream",
     "text": [
      "Similarity score: 0.7029551047916202\n"
     ]
    }
   ],
   "source": [
    "# Evaluate the Translation of the model using similarity score of embeddings\n",
    "from sklearn.metrics.pairwise import cosine_similarity\n",
    "\n",
    "embedding_translation = ollama.embeddings(model=\"nomic-embed-text\", prompt=response.content[0].text)\n",
    "embedding_real_answer = ollama.embeddings(model=\"nomic-embed-text\", prompt=df['meaning'][0])\n",
    "\n",
    "# Reshape the embeddings to 2D arrays\n",
    "embedding_translation_reshaped = [embedding_translation.embedding]\n",
    "embedding_real_answer_reshaped = [embedding_real_answer.embedding]\n",
    "\n",
    "similarity_score = cosine_similarity(embedding_translation_reshaped, embedding_real_answer_reshaped)\n",
    "print(f\"Similarity score: {similarity_score[0][0]}\")"
   ]
  },
  {
   "cell_type": "code",
   "execution_count": 7,
   "metadata": {},
   "outputs": [],
   "source": [
    "# define a function to evaluate a model (translate all idioms and compare to the real answers for a given model)\n",
    "def evaluate_model(df, model):\n",
    "    scores = []\n",
    "    # counter = 0\n",
    "    for i in range(df.shape[0]):\n",
    "        # counter += 1\n",
    "        idiom = df['idiom'][i]\n",
    "        response = model(idiom)\n",
    "        embedding_translation = ollama.embeddings(model=\"nomic-embed-text\", prompt=response.content[0].text)\n",
    "        embedding_real_answer = ollama.embeddings(model=\"nomic-embed-text\", prompt=df['meaning'][i])\n",
    "        embedding_translation_reshaped = [embedding_translation.embedding]\n",
    "        embedding_real_answer_reshaped = [embedding_real_answer.embedding]\n",
    "        similarity_score = cosine_similarity(embedding_translation_reshaped, embedding_real_answer_reshaped)\n",
    "        scores.append(similarity_score[0][0])\n",
    "        # if counter == 20:\n",
    "        #     break\n",
    "    return scores"
   ]
  },
  {
   "cell_type": "code",
   "execution_count": 8,
   "metadata": {},
   "outputs": [],
   "source": [
    "# test evaluate_model\n",
    "ell.init(verbose=False)\n",
    "#scores = evaluate_model(df, translate_idiom)\n",
    "#print(scores)"
   ]
  },
  {
   "cell_type": "code",
   "execution_count": 9,
   "metadata": {},
   "outputs": [],
   "source": [
    "# write the results to a csv file\n",
    "def write_translations_to_csv(df, model, filename='translations.csv'):\n",
    "    header = ['idiom', 'meaning', 'model', 'response']\n",
    "    with open(filename, 'w', newline='') as file:\n",
    "        writer = csv.writer(file)\n",
    "        writer.writerow(header)\n",
    "        for i in range(df.shape[0]):\n",
    "            idiom = df['idiom'][i]\n",
    "            response = model(idiom)\n",
    "            writer.writerow([idiom, df['meaning'][i], 'llama3.1:8b', response.content[0].text])\n",
    "\n",
    "def calculate_similarity_scores_and_write_to_csv(df, filename='translations_with_similarity_scores.csv'):\n",
    "    header = ['idiom', 'meaning', 'response', 'similarity_score']\n",
    "    df_translations = pd.read_csv('translations.csv', skiprows=1, names=['idiom', 'meaning','model', 'response'])\n",
    "    with open(filename, 'w', newline='', encoding='utf-8') as file:\n",
    "        writer = csv.writer(file)\n",
    "        writer.writerow(header)\n",
    "        for i in range(df.shape[0]):\n",
    "            idiom = df_translations.iloc[i]['idiom']\n",
    "            response = df_translations.iloc[i]['response']\n",
    "            embedding_translation = ollama.embeddings(model=\"nomic-embed-text\", prompt=response)\n",
    "            embedding_real_answer = ollama.embeddings(model=\"nomic-embed-text\", prompt=df['meaning'][i])\n",
    "            embedding_translation_reshaped = [embedding_translation.embedding]\n",
    "            embedding_real_answer_reshaped = [embedding_real_answer.embedding]\n",
    "            similarity_score = cosine_similarity(embedding_translation_reshaped, embedding_real_answer_reshaped)\n",
    "            writer.writerow([idiom, df['meaning'][i], response, similarity_score[0][0]])"
   ]
  },
  {
   "cell_type": "code",
   "execution_count": 10,
   "metadata": {},
   "outputs": [],
   "source": [
    "# test eval_and_write\n",
    "# write_translations_to_csv(df, translate_idiom, 'translations.csv')\n",
    "# calculate_similarity_scores_and_write_to_csv(df, 'translations_with_similarity_scores.csv')"
   ]
  },
  {
   "cell_type": "code",
   "execution_count": 11,
   "metadata": {},
   "outputs": [
    {
     "name": "stdout",
     "output_type": "stream",
     "text": [
      "count    1450.000000\n",
      "mean        0.660420\n",
      "std         0.132097\n",
      "min         0.319372\n",
      "25%         0.565719\n",
      "50%         0.657454\n",
      "75%         0.753543\n",
      "max         1.000000\n",
      "Name: similarity_score, dtype: float64\n"
     ]
    }
   ],
   "source": [
    "# see basic statistics of the similarity scores\n",
    "df_similarity_scores = pd.read_csv('translations_with_similarity_scores.csv', skiprows=1, names=['idiom', 'meaning', 'response', 'similarity_score'])\n",
    "print(df_similarity_scores['similarity_score'].describe())"
   ]
  },
  {
   "cell_type": "code",
   "execution_count": 12,
   "metadata": {},
   "outputs": [
    {
     "name": "stdout",
     "output_type": "stream",
     "text": [
      "                 idiom  ... similarity_score\n",
      "17         A Home Bird  ...         0.900848\n",
      "55     Ace In The Hole  ...         0.988062\n",
      "98   All Hands on Deck  ...         0.903481\n",
      "125         All Thumbs  ...         0.979513\n",
      "127            All Wet  ...         0.912698\n",
      "\n",
      "[5 rows x 4 columns]\n"
     ]
    }
   ],
   "source": [
    "# have a look at some entries with very high similarity scores \n",
    "# change display settings to show the full text\n",
    "pd.set_option('display.max_colwidth', None)\n",
    "print(df_similarity_scores[df_similarity_scores['similarity_score'] > 0.9].head())\n"
   ]
  },
  {
   "cell_type": "code",
   "execution_count": 13,
   "metadata": {},
   "outputs": [
    {
     "name": "stdout",
     "output_type": "stream",
     "text": [
      "                   idiom  ... similarity_score\n",
      "56   Ace Up One�s Sleeve  ...         0.396890\n",
      "103     All in One Piece  ...         0.390095\n",
      "131         Amber Nectar  ...         0.393247\n",
      "182           Baby Blues  ...         0.319372\n",
      "374  Come Rain and Shine  ...         0.393893\n",
      "\n",
      "[5 rows x 4 columns]\n"
     ]
    }
   ],
   "source": [
    "# have a look at some entries with very low similarity scores\n",
    "print(df_similarity_scores[df_similarity_scores['similarity_score'] < 0.4].head())"
   ]
  },
  {
   "cell_type": "code",
   "execution_count": 29,
   "metadata": {},
   "outputs": [
    {
     "data": {
      "image/png": "[encoded data removed]",
      "text/plain": [
       "<Figure size 640x480 with 1 Axes>"
      ]
     },
     "metadata": {},
     "output_type": "display_data"
    }
   ],
   "source": [
    "# create a histogram of the similarity scores\n",
    "\n",
    "df_similarity_scores['similarity_score'].plot(kind='hist', bins=20, linewidth=0.5, edgecolor=\"white\")\n",
    "plt.xlabel('Similarity score')\n",
    "plt.ylabel('Frequency')\n",
    "plt.title('Histogram of similarity scores')\n",
    "\n",
    "plt.show()\n"
   ]
  },
  {
   "cell_type": "code",
   "execution_count": 36,
   "metadata": {},
   "outputs": [
    {
     "data": {
      "image/png": "[encoded data removed]",
      "text/plain": [
       "<Figure size 640x480 with 1 Axes>"
      ]
     },
     "metadata": {},
     "output_type": "display_data"
    }
   ],
   "source": [
    "# create a boxplot of the similarity scores with improved styling\n",
    "boxplot = df_similarity_scores.boxplot(column='similarity_score', patch_artist=True, boxprops=dict(facecolor='lightblue', color='black'), medianprops=dict(color='red'), whiskerprops=dict(color='black'), capprops=dict(color='black'))\n",
    "\n",
    "plt.ylabel('Similarity score')\n",
    "plt.title('Boxplot of similarity scores')\n",
    "plt.grid(True, linestyle='--', alpha=0.7)\n",
    "plt.show()"
   ]
  }
 ],
 "metadata": {
  "kernelspec": {
   "display_name": "Python 3",
   "language": "python",
   "name": "python3"
  },
  "language_info": {
   "codemirror_mode": {
    "name": "ipython",
    "version": 3
   },
   "file_extension": ".py",
   "mimetype": "text/x-python",
   "name": "python",
   "nbconvert_exporter": "python",
   "pygments_lexer": "ipython3",
   "version": "3.12.3"
  }
 },
 "nbformat": 4,
 "nbformat_minor": 2
}
